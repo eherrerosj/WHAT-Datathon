{
 "cells": [
  {
   "cell_type": "markdown",
   "metadata": {},
   "source": [
    "# gSearch\n",
    "\n",
    "This notebook handles arbitrary data input and executes a complete gridsearch on XGBoost parameters. In the end, a dictionary with all optimal par:value pairs are returned."
   ]
  },
  {
   "cell_type": "code",
   "execution_count": 1,
   "metadata": {
    "collapsed": true
   },
   "outputs": [],
   "source": [
    "import xgboost as xgb\n",
    "import re\n",
    "import pandas as pd\n",
    "import numpy as np\n",
    "from sklearn.model_selection import GridSearchCV, train_test_split\n",
    "from sklearn.datasets import make_classification\n",
    "\n",
    "seed = 1337"
   ]
  },
  {
   "cell_type": "code",
   "execution_count": 2,
   "metadata": {
    "collapsed": false
   },
   "outputs": [],
   "source": [
    "X, y = make_classification(n_samples=1000, n_features=20)\n",
    "X_train, X_test, y_train, y_test = train_test_split(X, y, test_size=0.2)\n",
    "\n",
    "dtrain = xgb.DMatrix(X_train, label=y_train)\n",
    "dtest = xgb.DMatrix(X_test)"
   ]
  },
  {
   "cell_type": "code",
   "execution_count": null,
   "metadata": {
    "collapsed": true
   },
   "outputs": [],
   "source": [
    "def gSearch(X, y, params, tune_params):\n",
    "    \n",
    "    # define model\n",
    "    model = xgb.XGBClassifier(learning_rate = params['learning_rate'], n_estimators = params['n_estimator']\n",
    "                              , max_depth = params['max_depth'], min_child_weight = params['min_child_weight']\n",
    "                              , gamma = params['gamma'], subsample = params['subsample']\n",
    "                              , colsample_bytree = params['colsample_bytree'], objective = params['objective']\n",
    "                              , scale_pos_weight = params['scale_pos_weight'], seed = params['seed'])\n",
    "    \n",
    "    # define gridsearch\n",
    "    gsearch = GridSearchCV(estimator=model, param_grid=tune_params, scoring=params['scoring']\n",
    "                           , n_jobs = 1, iid = False, verbose = 1)\n",
    "\n",
    "    # obtain optimal parameters\n",
    "    gsearch.fit(X, y)\n",
    "    print(gsearch.best_params_)\n",
    "    \n",
    "    # return optimal parameters\n",
    "    return gsearch\n",
    "\n",
    "def updatePars(base, new):\n",
    "    for k in new.keys():\n",
    "        base[k] = new[k]\n",
    "    return base"
   ]
  },
  {
   "cell_type": "markdown",
   "metadata": {},
   "source": [
    "## n_estimator"
   ]
  },
  {
   "cell_type": "code",
   "execution_count": 22,
   "metadata": {
    "collapsed": false
   },
   "outputs": [
    {
     "name": "stdout",
     "output_type": "stream",
     "text": [
      "[0]\ttrain-merror:0.04625+0.00246515\ttest-merror:0.08875+0.0147373\n",
      "[20]\ttrain-merror:0.0129168+0.0024651\ttest-merror:0.08125+0.0134048\n"
     ]
    }
   ],
   "source": [
    "# Set initial parameters and find optimal number of boosting rounds\n",
    "\n",
    "xgb_params = {\n",
    "    'objective': 'multi:softmax',\n",
    "    'eval_metric': 'merror',\n",
    "    'learning_rate': 0.1,\n",
    "    'max_depth': 6,\n",
    "    'min_child_weight': 1,\n",
    "    'subsample': 0.7,\n",
    "    'colsample_bytree': 0.7,\n",
    "    'seed': seed,\n",
    "    'silent': 1,\n",
    "    'num_parallel_tree': 1,\n",
    "    'num_class': 2\n",
    "}\n",
    "\n",
    "res = xgb.cv(xgb_params,\n",
    "             dtrain,\n",
    "             num_boost_round=750,\n",
    "             nfold=4,\n",
    "             seed=seed,\n",
    "             stratified=False,\n",
    "             early_stopping_rounds=15,\n",
    "             verbose_eval=20,\n",
    "             show_stdv=True,\n",
    "             maximize=False)"
   ]
  },
  {
   "cell_type": "markdown",
   "metadata": {},
   "source": [
    "## Hyperparameter tuning"
   ]
  },
  {
   "cell_type": "code",
   "execution_count": 23,
   "metadata": {
    "collapsed": true
   },
   "outputs": [],
   "source": [
    "# formulate initial parameters\n",
    "params = {\n",
    "    'objective': 'binary:logistic',\n",
    "    'scoring': 'f1',\n",
    "    'learning_rate': 0.1,\n",
    "    'max_depth': 6,\n",
    "    'min_child_weight': 1,\n",
    "    'scale_pos_weight': 1,\n",
    "    'subsample': 0.7,\n",
    "    'colsample_bytree': 0.7,\n",
    "    'seed': 1337,\n",
    "    'silent': 1,\n",
    "    'num_parallel_tree': 1,\n",
    "    'gamma': 0,\n",
    "    'n_estimator': res.shape[0]\n",
    "}"
   ]
  },
  {
   "cell_type": "markdown",
   "metadata": {},
   "source": [
    "### max_depth and min_child_weight"
   ]
  },
  {
   "cell_type": "code",
   "execution_count": 24,
   "metadata": {
    "collapsed": false
   },
   "outputs": [
    {
     "name": "stdout",
     "output_type": "stream",
     "text": [
      "Fitting 3 folds for each of 12 candidates, totalling 36 fits\n"
     ]
    },
    {
     "name": "stderr",
     "output_type": "stream",
     "text": [
      "[Parallel(n_jobs=1)]: Done  36 out of  36 | elapsed:    0.4s finished\n"
     ]
    },
    {
     "name": "stdout",
     "output_type": "stream",
     "text": [
      "{'max_depth': 3, 'min_child_weight': 1}\n",
      "Fitting 3 folds for each of 9 candidates, totalling 27 fits\n",
      "{'max_depth': 3, 'min_child_weight': 1}\n"
     ]
    },
    {
     "name": "stderr",
     "output_type": "stream",
     "text": [
      "[Parallel(n_jobs=1)]: Done  27 out of  27 | elapsed:    0.3s finished\n"
     ]
    }
   ],
   "source": [
    "# formulate the grid\n",
    "tunePar = {\n",
    " 'max_depth': list(range(3,10,2)),\n",
    " 'min_child_weight': list(range(1,6,2))}\n",
    "tmp = gSearch(X_train, y_train, params, tunePar)\n",
    "\n",
    "tunePar = {\n",
    " 'max_depth': [tmp.best_params_['max_depth'] + i for i in range(-1, 2)],\n",
    " 'min_child_weight': [tmp.best_params_['min_child_weight'] + i for i in range(-1, 2)]}\n",
    "tmp = gSearch(X_train, y_train, params, tunePar)\n",
    "\n",
    "params = updatePars(params, tmp.best_params_)"
   ]
  },
  {
   "cell_type": "markdown",
   "metadata": {},
   "source": [
    "### gamma"
   ]
  },
  {
   "cell_type": "code",
   "execution_count": 25,
   "metadata": {
    "collapsed": false
   },
   "outputs": [
    {
     "name": "stdout",
     "output_type": "stream",
     "text": [
      "Fitting 3 folds for each of 5 candidates, totalling 15 fits\n",
      "{'gamma': 0.0}\n"
     ]
    },
    {
     "name": "stderr",
     "output_type": "stream",
     "text": [
      "[Parallel(n_jobs=1)]: Done  15 out of  15 | elapsed:    0.2s finished\n"
     ]
    }
   ],
   "source": [
    "tunePar = {\n",
    " 'gamma':[i/10.0 for i in list(range(0,5))]\n",
    "}\n",
    "tmp = gSearch(X_train, y_train, params, tunePar)\n",
    "params = updatePars(params, tmp.best_params_)"
   ]
  },
  {
   "cell_type": "markdown",
   "metadata": {},
   "source": [
    "## Update n_estimator"
   ]
  },
  {
   "cell_type": "code",
   "execution_count": 26,
   "metadata": {
    "collapsed": false
   },
   "outputs": [
    {
     "name": "stdout",
     "output_type": "stream",
     "text": [
      "[0]\ttrain-merror:0.06125+0.00430981\ttest-merror:0.08125+0.0155624\n",
      "[20]\ttrain-merror:0.0495833+0.00246485\ttest-merror:0.0775+0.00901388\n"
     ]
    }
   ],
   "source": [
    "pars = ['scale_pos_weight','gamma','colsample_bytree','max_depth'\n",
    "        ,'subsample','num_parallel_tree','min_child_weight']\n",
    "for par in pars:\n",
    "    xgb_params[par] = params[par]\n",
    "\n",
    "res = xgb.cv(xgb_params,\n",
    "             dtrain,\n",
    "             num_boost_round=750,\n",
    "             nfold=4,\n",
    "             seed=seed,\n",
    "             stratified=False,\n",
    "             early_stopping_rounds=15,\n",
    "             verbose_eval=20,\n",
    "             show_stdv=True,\n",
    "             maximize=False)"
   ]
  },
  {
   "cell_type": "markdown",
   "metadata": {},
   "source": [
    "### subsample and colsample_bytree "
   ]
  },
  {
   "cell_type": "code",
   "execution_count": 27,
   "metadata": {
    "collapsed": false
   },
   "outputs": [
    {
     "name": "stdout",
     "output_type": "stream",
     "text": [
      "Fitting 3 folds for each of 25 candidates, totalling 75 fits\n"
     ]
    },
    {
     "name": "stderr",
     "output_type": "stream",
     "text": [
      "[Parallel(n_jobs=1)]: Done  75 out of  75 | elapsed:    0.9s finished\n"
     ]
    },
    {
     "name": "stdout",
     "output_type": "stream",
     "text": [
      "{'colsample_bytree': 0.6, 'subsample': 0.6}\n",
      "Fitting 3 folds for each of 36 candidates, totalling 108 fits\n",
      "{'colsample_bytree': 0.6, 'subsample': 0.6}\n"
     ]
    },
    {
     "name": "stderr",
     "output_type": "stream",
     "text": [
      "[Parallel(n_jobs=1)]: Done 108 out of 108 | elapsed:    1.1s finished\n"
     ]
    }
   ],
   "source": [
    "tunePar = {\n",
    " 'subsample': [i/10.0 for i in list(range(5,10))],\n",
    " 'colsample_bytree': [i/10.0 for i in list(range(5,10))]\n",
    "}\n",
    "tmp = gSearch(X_train, y_train, params, tunePar)\n",
    "params = updatePars(params, tmp.best_params_)\n",
    "\n",
    "tunePar = {\n",
    " 'subsample': [i/100.0 for i in list(range(int(tmp.best_params_['subsample'] * 100) - 15\n",
    "                                           , int(tmp.best_params_['subsample'] * 100) + 15, 5))],\n",
    " 'colsample_bytree': [i/100.0 for i in list(range(int(tmp.best_params_['subsample'] * 100) - 15\n",
    "                                                  , int(tmp.best_params_['subsample'] * 100) + 15, 5))]\n",
    "}\n",
    "tmp = gSearch(X_train, y_train, params, tunePar)\n",
    "params = updatePars(params, tmp.best_params_)"
   ]
  },
  {
   "cell_type": "markdown",
   "metadata": {},
   "source": [
    "### alpha"
   ]
  },
  {
   "cell_type": "code",
   "execution_count": 28,
   "metadata": {
    "collapsed": false
   },
   "outputs": [
    {
     "name": "stdout",
     "output_type": "stream",
     "text": [
      "Fitting 3 folds for each of 5 candidates, totalling 15 fits\n",
      "{'reg_alpha': 0}\n"
     ]
    },
    {
     "name": "stderr",
     "output_type": "stream",
     "text": [
      "[Parallel(n_jobs=1)]: Done  15 out of  15 | elapsed:    0.2s finished\n"
     ]
    }
   ],
   "source": [
    "tunePar = {\n",
    " 'reg_alpha': [0, 0.001, 0.005, 0.01, 0.05]\n",
    "}\n",
    "tmp = gSearch(X_train, y_train, params, tunePar)\n",
    "params = updatePars(params, tmp.best_params_)"
   ]
  },
  {
   "cell_type": "markdown",
   "metadata": {},
   "source": [
    "## Results\n",
    "This dictionary contains all optimal parameter values"
   ]
  },
  {
   "cell_type": "code",
   "execution_count": 32,
   "metadata": {
    "collapsed": false
   },
   "outputs": [
    {
     "data": {
      "text/plain": [
       "{'colsample_bytree': 0.6,\n",
       " 'gamma': 0.0,\n",
       " 'learning_rate': 0.1,\n",
       " 'max_depth': 3,\n",
       " 'min_child_weight': 1,\n",
       " 'n_estimator': 23,\n",
       " 'num_parallel_tree': 1,\n",
       " 'objective': 'binary:logistic',\n",
       " 'reg_alpha': 0,\n",
       " 'scale_pos_weight': 1,\n",
       " 'scoring': 'f1',\n",
       " 'seed': 1337,\n",
       " 'silent': 1,\n",
       " 'subsample': 0.6}"
      ]
     },
     "execution_count": 32,
     "metadata": {},
     "output_type": "execute_result"
    }
   ],
   "source": [
    "params"
   ]
  }
 ],
 "metadata": {
  "kernelspec": {
   "display_name": "Python 3",
   "language": "python",
   "name": "python3"
  },
  "language_info": {
   "codemirror_mode": {
    "name": "ipython",
    "version": 3
   },
   "file_extension": ".py",
   "mimetype": "text/x-python",
   "name": "python",
   "nbconvert_exporter": "python",
   "pygments_lexer": "ipython3",
   "version": "3.5.3"
  }
 },
 "nbformat": 4,
 "nbformat_minor": 2
}
