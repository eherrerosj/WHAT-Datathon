{
 "cells": [
  {
   "cell_type": "markdown",
   "metadata": {
    "deletable": true,
    "editable": true
   },
   "source": [
    "# gSearch\n",
    "\n",
    "This notebook handles arbitrary data input and executes a complete gridsearch on XGBoost parameters. In the end, a dictionary with all optimal par:value pairs are returned."
   ]
  },
  {
   "cell_type": "code",
   "execution_count": null,
   "metadata": {
    "collapsed": true,
    "deletable": true,
    "editable": true
   },
   "outputs": [],
   "source": [
    "import xgboost as xgb\n",
    "import re\n",
    "import pandas as pd\n",
    "import numpy as np\n",
    "from sklearn.model_selection import GridSearchCV, train_test_split\n",
    "from sklearn.datasets import make_classification\n",
    "from sklearn.ensemble import RandomForestClassifier, ExtraTreesClassifier\n",
    "seed = 1337"
   ]
  },
  {
   "cell_type": "code",
   "execution_count": null,
   "metadata": {
    "collapsed": false,
    "deletable": true,
    "editable": true
   },
   "outputs": [],
   "source": [
    "Xtr = pd.read_pickle('../X_train_stack.pkl')\n",
    "Xte = pd.read_pickle('../X_test_stack.pkl')\n",
    "y = pd.read_pickle('../y_train_.pkl')\n",
    "\n",
    "#X_train, X_test, y_train, y_test = train_test_split(Xtr, y, test_size=0.2)\n",
    "\n",
    "#dtrain = xgb.DMatrix(X_train, label=y_train)\n",
    "#dtest = xgb.DMatrix(X_test)"
   ]
  },
  {
   "cell_type": "code",
   "execution_count": null,
   "metadata": {
    "collapsed": false,
    "deletable": true,
    "editable": true
   },
   "outputs": [],
   "source": [
    "Xtr.head()"
   ]
  },
  {
   "cell_type": "code",
   "execution_count": null,
   "metadata": {
    "collapsed": false,
    "deletable": true,
    "editable": true
   },
   "outputs": [],
   "source": [
    "def label_binday(hour_time):\n",
    "    hour_time = int(hour_time)\n",
    "    if (hour_time >= 0 and hour_time < 7):\n",
    "        return \"early\"\n",
    "    elif (hour_time >= 7 and hour_time < 13):\n",
    "        return \"morning\"\n",
    "    elif (hour_time >= 13 and hour_time < 18):\n",
    "        return \"afternoon\"\n",
    "    elif (hour_time >= 18):\n",
    "        return \"night\"\n",
    "Xtr[\"time_start\"] = Xtr[\"time_start\"].apply(lambda x: label_binday(x))\n",
    "Xte[\"time_start\"] = Xte[\"time_start\"].apply(lambda x: label_binday(x))\n",
    "Xtr[\"time_end\"] = Xtr[\"time_end\"].apply(lambda x: label_binday(x))\n",
    "Xte[\"time_end\"] = Xte[\"time_end\"].apply(lambda x: label_binday(x))\n",
    "Xtr = pd.get_dummies(Xtr, columns=[\"time_start\", \"time_end\"])\n",
    "Xte = pd.get_dummies(Xte, columns=[\"time_start\", \"time_end\"])"
   ]
  },
  {
   "cell_type": "code",
   "execution_count": null,
   "metadata": {
    "collapsed": false,
    "deletable": true,
    "editable": true
   },
   "outputs": [],
   "source": [
    "Xtr.drop(['9292', 'NA', 'funda'], axis=1, inplace=True)\n",
    "Xte.drop(['9292', 'NA', 'funda'], axis=1, inplace=True)"
   ]
  },
  {
   "cell_type": "code",
   "execution_count": null,
   "metadata": {
    "collapsed": true,
    "deletable": true,
    "editable": true
   },
   "outputs": [],
   "source": [
    "def gSearch(X, y, params, tune_params):\n",
    "    \n",
    "    # define model\n",
    "    model = xgb.XGBClassifier(learning_rate = params['learning_rate'], n_estimators = params['n_estimator']\n",
    "                              , max_depth = params['max_depth'], min_child_weight = params['min_child_weight']\n",
    "                              , gamma = params['gamma'], subsample = params['subsample']\n",
    "                              , colsample_bytree = params['colsample_bytree'], objective = params['objective']\n",
    "                              , scale_pos_weight = params['scale_pos_weight'], seed = params['seed'])\n",
    "    \n",
    "    # define gridsearch\n",
    "    gsearch = GridSearchCV(estimator=model, param_grid=tune_params, scoring=params['scoring']\n",
    "                           , n_jobs = -1, iid = False, verbose = 5)\n",
    "\n",
    "    # obtain optimal parameters\n",
    "    gsearch.fit(X, y)\n",
    "    print(gsearch.best_params_)\n",
    "    \n",
    "    # return optimal parameters\n",
    "    return gsearch\n",
    "\n",
    "def updatePars(base, new):\n",
    "    for k in new.keys():\n",
    "        base[k] = new[k]\n",
    "    return base"
   ]
  },
  {
   "cell_type": "code",
   "execution_count": null,
   "metadata": {
    "collapsed": false,
    "deletable": true,
    "editable": true
   },
   "outputs": [],
   "source": [
    "params = {\n",
    "    'objective': 'binary:logistic',\n",
    "    'scoring': 'roc_auc',\n",
    "    'learning_rate': 0.08,\n",
    "    'max_depth': 7,\n",
    "    'min_child_weight': 1.5,\n",
    "    'scale_pos_weight': 1,\n",
    "    'subsample': 0.5,\n",
    "    'colsample_bytree': 0.4,\n",
    "    'seed': 1337,\n",
    "    'silent': 1,\n",
    "    'num_parallel_tree': 1,\n",
    "    'gamma': 0,\n",
    "    'n_estimator': 700\n",
    "}\n",
    "\n",
    "model = xgb.XGBClassifier(learning_rate = params['learning_rate'], n_estimators = params['n_estimator']\n",
    "                              , max_depth = params['max_depth'], min_child_weight = params['min_child_weight']\n",
    "                              , gamma = params['gamma'], subsample = params['subsample']\n",
    "                              , colsample_bytree = params['colsample_bytree'], objective = params['objective']\n",
    "                              , scale_pos_weight = params['scale_pos_weight'], seed = params['seed'])\n",
    "\n",
    "\n",
    "\n",
    "from sklearn.model_selection import KFold\n",
    "\n",
    "preds = []\n",
    "\n",
    "kf=KFold(n_splits=3)\n",
    "for i, (tr, te) in enumerate(kf.split(Xtr)):\n",
    "    print(i)\n",
    "    model.fit(Xtr.iloc[tr], y[tr])\n",
    "    preds.append(model.predict_proba(Xte))\n",
    "model.feature_importances_"
   ]
  },
  {
   "cell_type": "code",
   "execution_count": null,
   "metadata": {
    "collapsed": false,
    "deletable": true,
    "editable": true
   },
   "outputs": [],
   "source": [
    "for i, mat in enumerate(preds):\n",
    "    pd.DataFrame(mat).to_csv('9999999pred'+str(i)+'.csv', index=False)\n",
    "\n",
    "\n",
    "\n"
   ]
  },
  {
   "cell_type": "code",
   "execution_count": null,
   "metadata": {
    "collapsed": false,
    "deletable": true,
    "editable": true
   },
   "outputs": [],
   "source": [
    "a"
   ]
  },
  {
   "cell_type": "code",
   "execution_count": null,
   "metadata": {
    "collapsed": false,
    "deletable": true,
    "editable": true
   },
   "outputs": [],
   "source": [
    "te_preds = model.predict(Xte)\n",
    "\n",
    "pd.Series(te_preds).to_csv('~/xgb_te_preds.csv')"
   ]
  },
  {
   "cell_type": "code",
   "execution_count": null,
   "metadata": {
    "collapsed": false,
    "deletable": true,
    "editable": true
   },
   "outputs": [],
   "source": [
    "round(pd.DataFrame([x for y in preds for x in y]).iloc[:, 1]).to_csv('~/xgb_tr_preds.csv')"
   ]
  },
  {
   "cell_type": "code",
   "execution_count": null,
   "metadata": {
    "collapsed": false,
    "deletable": true,
    "editable": true
   },
   "outputs": [],
   "source": [
    "pd.to_pickle(Xtr, \"X_train1.pkl\")\n",
    "pd.to_pickle(Xte, \"X_test1.pkl\")"
   ]
  },
  {
   "cell_type": "code",
   "execution_count": null,
   "metadata": {
    "collapsed": false,
    "deletable": true,
    "editable": true
   },
   "outputs": [],
   "source": [
    "list(set(Xtr.columns.ravel()) - set(Xte.columns.ravel()))"
   ]
  },
  {
   "cell_type": "code",
   "execution_count": null,
   "metadata": {
    "collapsed": false,
    "deletable": true,
    "editable": true
   },
   "outputs": [],
   "source": [
    "Xtr.drop(['quizonaut',\n",
    " 'fitbit',\n",
    " 'gayboystube',\n",
    " 'fundingcircle',\n",
    " 'westpac',\n",
    " 'discretecontacten',\n",
    " 'pogo',\n",
    " 'emojipedia',\n",
    " 'siemens',\n",
    " 'btcclicks',\n",
    " 'ojooo'],\n",
    "         axis=1, inplace=True)"
   ]
  },
  {
   "cell_type": "code",
   "execution_count": null,
   "metadata": {
    "collapsed": false,
    "deletable": true,
    "editable": true
   },
   "outputs": [],
   "source": [
    "Xtr.drop([\"myfreeshares\"],\n",
    "         axis=1, inplace=True)"
   ]
  },
  {
   "cell_type": "code",
   "execution_count": null,
   "metadata": {
    "collapsed": false,
    "deletable": true,
    "editable": true
   },
   "outputs": [],
   "source": [
    "Xte.shape"
   ]
  },
  {
   "cell_type": "code",
   "execution_count": null,
   "metadata": {
    "collapsed": false,
    "deletable": true,
    "editable": true
   },
   "outputs": [],
   "source": [
    "Xte.drop([\"op-vlieland\", \"vlinderscrime\", \"demotywatory\", \"chartbeat\", \"usenet-4all\", \"conforama\",\n",
    "          \"beterrekenen\", \"tourdefrancepro\", \"farmerama\", \"free-spider-solitaire\", \"dreamwidth\", \"mabanque\",\n",
    "          \"annieslife\", \"bildkontakte\", \"memrise\", \"netvibes\", \"omniboxes\", \"ighome\", \"experian\", \"t411\",\n",
    "          \"ipsedebruggen\", \"noordik\", \"betegy\", \"pornsos\", \"so-v\", \"digicert\", \"television-envivo\"],\n",
    "         axis=1, inplace=True)"
   ]
  },
  {
   "cell_type": "code",
   "execution_count": null,
   "metadata": {
    "collapsed": false,
    "deletable": true,
    "editable": true
   },
   "outputs": [],
   "source": [
    "Xte.shape"
   ]
  },
  {
   "cell_type": "code",
   "execution_count": null,
   "metadata": {
    "collapsed": false,
    "deletable": true,
    "editable": true,
    "scrolled": true
   },
   "outputs": [],
   "source": [
    "import time\n",
    "t0 = time.time()\n",
    "print(\"Parameter optimization\")\n",
    "xgb_model = xgb.XGBClassifier(seed=2017, objective=\"binary:logistic\")\n",
    "clf = GridSearchCV(xgb_model,\n",
    "                   {'max_depth': [4,7], # 3, 5, 8\n",
    "                    'n_estimators': [100,400], # 50,100,200\n",
    "                    'learning_rate': [0.01, 0.3],\n",
    "                    'min_child_weight': [1, 1.5], # 1, 1.5, 5\n",
    "                    'gamma': [0, 0.1], # 0, 0.1\n",
    "                    'subsample': [0.5, 0.75], # 0.5, 0.75, 1\n",
    "                    'colsample_bytree': [0.4, 0.7], # 0.5, 0.75, 1,\n",
    "                    \n",
    "                   }, verbose=3, cv=3,scoring='roc_auc', n_jobs=-1)\n",
    "clf.fit(Xtr,y)\n",
    "print(str(int(time.time() - t0)))\n",
    "print(\"Best score:\")\n",
    "print(clf.best_score_)\n",
    "print(\"Best parameters:\")\n",
    "print(clf.best_params_)"
   ]
  },
  {
   "cell_type": "code",
   "execution_count": null,
   "metadata": {
    "collapsed": true,
    "deletable": true,
    "editable": true
   },
   "outputs": [],
   "source": []
  },
  {
   "cell_type": "code",
   "execution_count": null,
   "metadata": {
    "collapsed": true,
    "deletable": true,
    "editable": true
   },
   "outputs": [],
   "source": []
  },
  {
   "cell_type": "code",
   "execution_count": null,
   "metadata": {
    "collapsed": true,
    "deletable": true,
    "editable": true
   },
   "outputs": [],
   "source": []
  },
  {
   "cell_type": "code",
   "execution_count": null,
   "metadata": {
    "collapsed": true,
    "deletable": true,
    "editable": true
   },
   "outputs": [],
   "source": []
  },
  {
   "cell_type": "code",
   "execution_count": null,
   "metadata": {
    "collapsed": true,
    "deletable": true,
    "editable": true
   },
   "outputs": [],
   "source": []
  },
  {
   "cell_type": "code",
   "execution_count": null,
   "metadata": {
    "collapsed": false,
    "deletable": true,
    "editable": true
   },
   "outputs": [],
   "source": [
    "e = ExtraTreesClassifier(max_features=0.3, min_samples_leaf=11, min_samples_split=4, n_estimators=100)\n",
    "parameters = {'max_features':[0.3, 0.6], 'min_samples_leaf':[5, 10],\n",
    "              'min_samples_split':[4, 7], 'n_estimators':[100, 300]}\n",
    "clf = GridSearchCV(e, parameters, verbose=3, n_jobs=-1)\n",
    "clf.fit(Xtr, y)"
   ]
  },
  {
   "cell_type": "code",
   "execution_count": null,
   "metadata": {
    "collapsed": true,
    "deletable": true,
    "editable": true
   },
   "outputs": [],
   "source": []
  },
  {
   "cell_type": "code",
   "execution_count": null,
   "metadata": {
    "collapsed": true,
    "deletable": true,
    "editable": true
   },
   "outputs": [],
   "source": []
  },
  {
   "cell_type": "code",
   "execution_count": null,
   "metadata": {
    "collapsed": true,
    "deletable": true,
    "editable": true
   },
   "outputs": [],
   "source": []
  },
  {
   "cell_type": "code",
   "execution_count": null,
   "metadata": {
    "collapsed": true,
    "deletable": true,
    "editable": true
   },
   "outputs": [],
   "source": []
  },
  {
   "cell_type": "code",
   "execution_count": null,
   "metadata": {
    "collapsed": true,
    "deletable": true,
    "editable": true
   },
   "outputs": [],
   "source": []
  },
  {
   "cell_type": "code",
   "execution_count": null,
   "metadata": {
    "collapsed": false,
    "deletable": true,
    "editable": true
   },
   "outputs": [],
   "source": [
    "pd.Series(preds[:, 1]).to_csv('xgb_preds.csv', index=False)"
   ]
  },
  {
   "cell_type": "code",
   "execution_count": null,
   "metadata": {
    "collapsed": true,
    "deletable": true,
    "editable": true
   },
   "outputs": [],
   "source": [
    "preds = model.predict_proba(Xte)"
   ]
  },
  {
   "cell_type": "code",
   "execution_count": null,
   "metadata": {
    "collapsed": false,
    "deletable": true,
    "editable": true
   },
   "outputs": [],
   "source": [
    "pd.DataFrame(preds).iloc[:, 1].to_csv('subm_xgb_aeron3.csv', index=False)"
   ]
  },
  {
   "cell_type": "markdown",
   "metadata": {
    "deletable": true,
    "editable": true
   },
   "source": [
    "## n_estimator"
   ]
  },
  {
   "cell_type": "code",
   "execution_count": null,
   "metadata": {
    "collapsed": false,
    "deletable": true,
    "editable": true
   },
   "outputs": [],
   "source": [
    "# Set initial parameters and find optimal number of boosting rounds\n",
    "\n",
    "xgb_params = {\n",
    "    'objective': 'binary:logistic',\n",
    "    'eval_metric': 'auc',\n",
    "    'learning_rate': 0.1,\n",
    "    'max_depth': 6,\n",
    "    'min_child_weight': 1,\n",
    "    'subsample': 0.7,\n",
    "    'colsample_bytree': 0.7,\n",
    "    'seed': seed,\n",
    "    'silent': 1,\n",
    "    'num_parallel_tree': 1\n",
    "}\n",
    "\n",
    "res = xgb.cv(xgb_params,\n",
    "             dtrain,\n",
    "             num_boost_round=5000,\n",
    "             nfold=4,\n",
    "             seed=seed,\n",
    "             stratified=False,\n",
    "             early_stopping_rounds=15,\n",
    "             verbose_eval=20,\n",
    "             show_stdv=True,\n",
    "             maximize=True)"
   ]
  },
  {
   "cell_type": "markdown",
   "metadata": {
    "deletable": true,
    "editable": true
   },
   "source": [
    "## Hyperparameter tuning"
   ]
  },
  {
   "cell_type": "code",
   "execution_count": null,
   "metadata": {
    "collapsed": true,
    "deletable": true,
    "editable": true
   },
   "outputs": [],
   "source": [
    "# formulate initial parameters\n",
    "params = {\n",
    "    'objective': 'binary:logistic',\n",
    "    'scoring': 'roc_auc',\n",
    "    'learning_rate': 0.1,\n",
    "    'max_depth': 6,\n",
    "    'min_child_weight': 1,\n",
    "    'scale_pos_weight': 1,\n",
    "    'subsample': 0.7,\n",
    "    'colsample_bytree': 0.7,\n",
    "    'seed': 1337,\n",
    "    'silent': 1,\n",
    "    'num_parallel_tree': 1,\n",
    "    'gamma': 0,\n",
    "    'n_estimator': 1000\n",
    "}"
   ]
  },
  {
   "cell_type": "markdown",
   "metadata": {
    "deletable": true,
    "editable": true
   },
   "source": [
    "### max_depth and min_child_weight"
   ]
  },
  {
   "cell_type": "code",
   "execution_count": null,
   "metadata": {
    "collapsed": false,
    "deletable": true,
    "editable": true
   },
   "outputs": [],
   "source": [
    "# formulate the grid\n",
    "tunePar = {\n",
    " 'max_depth': list(range(3,8,2)),\n",
    " 'min_child_weight': list(range(1,6,2))}\n",
    "\n",
    "\n",
    "\n",
    "\n",
    "model = xgb.XGBClassifier(learning_rate = params['learning_rate'], n_estimators = params['n_estimator']\n",
    "                          , max_depth = params['max_depth'], min_child_weight = params['min_child_weight']\n",
    "                          , gamma = params['gamma'], subsample = params['subsample']\n",
    "                          , colsample_bytree = params['colsample_bytree'], objective = params['objective']\n",
    "                          , scale_pos_weight = params['scale_pos_weight'], seed = params['seed'])\n",
    "\n",
    "# define gridsearch\n",
    "gsearch = GridSearchCV(estimator=model, param_grid=tunePar, scoring=params['scoring']\n",
    "                       , n_jobs = -1, iid = False, verbose = 5)\n",
    "\n",
    "# obtain optimal parameters\n",
    "gsearch.fit(X_train, y_train)\n",
    "\n",
    "\n",
    "\n",
    "\n",
    "\n",
    "\n",
    "# tmp = gSearch(X_train, y_train, params, tunePar)\n",
    "\n",
    "\n"
   ]
  },
  {
   "cell_type": "code",
   "execution_count": null,
   "metadata": {
    "collapsed": true,
    "deletable": true,
    "editable": true
   },
   "outputs": [],
   "source": [
    "tunePar = {\n",
    " 'max_depth': [tmp.best_params_['max_depth'] + i for i in range(-1, 2)],\n",
    " 'min_child_weight': [tmp.best_params_['min_child_weight'] + i for i in range(-1, 2)]}\n",
    "tmp = gSearch(X_train, y_train, params, tunePar)\n",
    "\n",
    "params = updatePars(params, tmp.best_params_)"
   ]
  },
  {
   "cell_type": "markdown",
   "metadata": {
    "deletable": true,
    "editable": true
   },
   "source": [
    "### gamma"
   ]
  },
  {
   "cell_type": "code",
   "execution_count": null,
   "metadata": {
    "collapsed": false,
    "deletable": true,
    "editable": true
   },
   "outputs": [],
   "source": [
    "tunePar = {\n",
    " 'gamma':[i/10.0 for i in list(range(0,5))]\n",
    "}\n",
    "tmp = gSearch(X_train, y_train, params, tunePar)\n",
    "params = updatePars(params, tmp.best_params_)"
   ]
  },
  {
   "cell_type": "markdown",
   "metadata": {
    "deletable": true,
    "editable": true
   },
   "source": [
    "## Update n_estimator"
   ]
  },
  {
   "cell_type": "code",
   "execution_count": null,
   "metadata": {
    "collapsed": false,
    "deletable": true,
    "editable": true
   },
   "outputs": [],
   "source": [
    "pars = ['scale_pos_weight','gamma','colsample_bytree','max_depth'\n",
    "        ,'subsample','num_parallel_tree','min_child_weight']\n",
    "for par in pars:\n",
    "    xgb_params[par] = params[par]\n",
    "\n",
    "res = xgb.cv(xgb_params,\n",
    "             dtrain,\n",
    "             num_boost_round=750,\n",
    "             nfold=4,\n",
    "             seed=seed,\n",
    "             stratified=False,\n",
    "             early_stopping_rounds=15,\n",
    "             verbose_eval=20,\n",
    "             show_stdv=True,\n",
    "             maximize=False)"
   ]
  },
  {
   "cell_type": "markdown",
   "metadata": {
    "deletable": true,
    "editable": true
   },
   "source": [
    "### subsample and colsample_bytree "
   ]
  },
  {
   "cell_type": "code",
   "execution_count": null,
   "metadata": {
    "collapsed": false,
    "deletable": true,
    "editable": true
   },
   "outputs": [],
   "source": [
    "tunePar = {\n",
    " 'subsample': [i/10.0 for i in list(range(5,10))],\n",
    " 'colsample_bytree': [i/10.0 for i in list(range(3,10))]\n",
    "}\n",
    "tmp = gSearch(X_train, y_train, params, tunePar)\n",
    "params = updatePars(params, tmp.best_params_)\n",
    "\n",
    "tunePar = {\n",
    " 'subsample': [i/100.0 for i in list(range(int(tmp.best_params_['subsample'] * 100) - 15\n",
    "                                           , int(tmp.best_params_['subsample'] * 100) + 15, 5))],\n",
    " 'colsample_bytree': [i/100.0 for i in list(range(int(tmp.best_params_['subsample'] * 100) - 15\n",
    "                                                  , int(tmp.best_params_['subsample'] * 100) + 15, 5))]\n",
    "}\n",
    "tmp = gSearch(X_train, y_train, params, tunePar)\n",
    "params = updatePars(params, tmp.best_params_)"
   ]
  },
  {
   "cell_type": "markdown",
   "metadata": {
    "deletable": true,
    "editable": true
   },
   "source": [
    "### alpha"
   ]
  },
  {
   "cell_type": "code",
   "execution_count": null,
   "metadata": {
    "collapsed": false,
    "deletable": true,
    "editable": true
   },
   "outputs": [],
   "source": [
    "tunePar = {\n",
    " 'reg_alpha': [0, 0.001, 0.005, 0.01, 0.05]\n",
    "}\n",
    "tmp = gSearch(X_train, y_train, params, tunePar)\n",
    "params = updatePars(params, tmp.best_params_)"
   ]
  },
  {
   "cell_type": "markdown",
   "metadata": {
    "deletable": true,
    "editable": true
   },
   "source": [
    "## Results\n",
    "This dictionary contains all optimal parameter values"
   ]
  },
  {
   "cell_type": "code",
   "execution_count": null,
   "metadata": {
    "collapsed": false,
    "deletable": true,
    "editable": true
   },
   "outputs": [],
   "source": [
    "params"
   ]
  },
  {
   "cell_type": "code",
   "execution_count": null,
   "metadata": {
    "collapsed": true,
    "deletable": true,
    "editable": true
   },
   "outputs": [],
   "source": []
  },
  {
   "cell_type": "code",
   "execution_count": null,
   "metadata": {
    "collapsed": true,
    "deletable": true,
    "editable": true
   },
   "outputs": [],
   "source": []
  },
  {
   "cell_type": "code",
   "execution_count": null,
   "metadata": {
    "collapsed": true,
    "deletable": true,
    "editable": true
   },
   "outputs": [],
   "source": []
  },
  {
   "cell_type": "code",
   "execution_count": null,
   "metadata": {
    "collapsed": true,
    "deletable": true,
    "editable": true
   },
   "outputs": [],
   "source": []
  }
 ],
 "metadata": {
  "kernelspec": {
   "display_name": "Python 3",
   "language": "python",
   "name": "python3"
  },
  "language_info": {
   "codemirror_mode": {
    "name": "ipython",
    "version": 3
   },
   "file_extension": ".py",
   "mimetype": "text/x-python",
   "name": "python",
   "nbconvert_exporter": "python",
   "pygments_lexer": "ipython3",
   "version": "3.5.2"
  }
 },
 "nbformat": 4,
 "nbformat_minor": 2
}
