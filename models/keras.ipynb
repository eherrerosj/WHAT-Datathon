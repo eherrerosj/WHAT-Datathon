{
 "cells": [
  {
   "cell_type": "code",
   "execution_count": null,
   "metadata": {
    "collapsed": false,
    "deletable": true,
    "editable": true
   },
   "outputs": [],
   "source": [
    "import numpy as np\n",
    "import pandas as pd\n",
    "from keras.models import Sequential\n",
    "from keras.layers import Dense, Dropout, Input\n",
    "from keras.callbacks import EarlyStopping\n",
    "\n",
    "\n",
    "from sklearn.model_selection import KFold, train_test_split"
   ]
  },
  {
   "cell_type": "code",
   "execution_count": null,
   "metadata": {
    "collapsed": false,
    "deletable": true,
    "editable": true
   },
   "outputs": [],
   "source": [
    "Xtr = pd.read_pickle('./X_train1.pkl')\n",
    "Xte = pd.read_pickle('./X_test1.pkl')\n",
    "y = pd.read_pickle('../y_train.pkl')"
   ]
  },
  {
   "cell_type": "code",
   "execution_count": null,
   "metadata": {
    "collapsed": false,
    "deletable": true,
    "editable": true
   },
   "outputs": [],
   "source": [
    "Xtr.shape"
   ]
  },
  {
   "cell_type": "code",
   "execution_count": null,
   "metadata": {
    "collapsed": false,
    "deletable": true,
    "editable": true
   },
   "outputs": [],
   "source": [
    "# create model\n",
    "model1 = Sequential()\n",
    "model1.add(Dense(60, input_dim=Xtr.shape[1], kernel_initializer='normal', activation='relu'))\n",
    "model1.add(Dropout(0.25))\n",
    "model1.add(Dense(30, kernel_initializer='normal', activation='relu'))\n",
    "model1.add(Dropout(0.25))\n",
    "model1.add(Dense(1, kernel_initializer='normal', activation='sigmoid'))\n",
    "# Compile model\n",
    "model1.compile(loss='binary_crossentropy', optimizer='rmsprop', metrics=['accuracy'])\n"
   ]
  },
  {
   "cell_type": "code",
   "execution_count": null,
   "metadata": {
    "collapsed": false,
    "deletable": true,
    "editable": true
   },
   "outputs": [],
   "source": [
    "Xtr.shape[1]"
   ]
  },
  {
   "cell_type": "code",
   "execution_count": null,
   "metadata": {
    "collapsed": false,
    "deletable": true,
    "editable": true
   },
   "outputs": [],
   "source": [
    "# create model\n",
    "model2 = Sequential()\n",
    "model2.add(Dense(120,input_dim=Xtr.shape[1], kernel_initializer='normal', activation='relu'))\n",
    "model2.add(Dropout(0.25))\n",
    "model2.add(Dense(60, kernel_initializer='normal', activation='relu'))\n",
    "model2.add(Dropout(0.25))\n",
    "model2.add(Dense(1, kernel_initializer='normal', activation='sigmoid'))\n",
    "# Compile model\n",
    "model2.compile(loss='binary_crossentropy', optimizer='rmsprop', metrics=['accuracy'])"
   ]
  },
  {
   "cell_type": "code",
   "execution_count": null,
   "metadata": {
    "collapsed": false,
    "deletable": true,
    "editable": true
   },
   "outputs": [],
   "source": [
    "cb = [EarlyStopping(monitor='val_loss', min_delta=0, patience=2, verbose=1, mode='auto')]\n",
    "\n",
    "model1.fit(x=Xtr.values, y=y, batch_size=32, epochs=15, callbacks=cb, verbose=2, validation_split=0.15)"
   ]
  },
  {
   "cell_type": "code",
   "execution_count": null,
   "metadata": {
    "collapsed": false,
    "deletable": true,
    "editable": true
   },
   "outputs": [],
   "source": [
    "preds = model1.predict_proba(Xte.values)"
   ]
  },
  {
   "cell_type": "code",
   "execution_count": null,
   "metadata": {
    "collapsed": false,
    "deletable": true,
    "editable": true
   },
   "outputs": [],
   "source": [
    "preds.ravel()"
   ]
  },
  {
   "cell_type": "code",
   "execution_count": null,
   "metadata": {
    "collapsed": false,
    "deletable": true,
    "editable": true
   },
   "outputs": [],
   "source": [
    "pd.Series(preds.ravel()).to_csv('kerasmodel2.csv', index=False)"
   ]
  },
  {
   "cell_type": "code",
   "execution_count": null,
   "metadata": {
    "collapsed": true,
    "deletable": true,
    "editable": true
   },
   "outputs": [],
   "source": [
    "def stackEnsemble(models, X, y, Xtest, splits, verbose):\n",
    "\n",
    "    # assert correct data-types \n",
    "    assert type(models) == list\n",
    "    assert type(splits) == int\n",
    "    assert type(verbose) == bool\n",
    "\n",
    "    # init variables\n",
    "    kf = KFold(n_splits = splits)\n",
    "    predsTR = {}\n",
    "    predsTE = {}\n",
    "\n",
    "    # iterate over all inserted models\n",
    "    for n, model in enumerate(models):\n",
    "        if verbose: print('Using model %d to make predictions..' % (n+1))\n",
    "\n",
    "        # prepare split for predictions\n",
    "        predsTR['model'+str(n+1)] = []\n",
    "        for i, (train, test) in enumerate(kf.split(X)):\n",
    "            if verbose: print('..on split %d' % (i+1))\n",
    "\n",
    "            # fit on split and predict\n",
    "            model.fit(X.iloc[train], y[train], batch_size=10, epochs=10)\n",
    "            predsTR['model'+str(n+1)].append(list(model.predict_proba(X.iloc[test])[:, 1]))\n",
    "\n",
    "        # predict on testset\n",
    "        predsTE['model'+str(n+1)] = list(model.predict_proba(Xtest)[:, 1])\n",
    "    \n",
    "    # combine trainset predictions in dataframe, join with trainset\n",
    "    meta_feats = pd.DataFrame(columns = [col for col in predsTR.keys()])\n",
    "    for model in predsTR.keys():\n",
    "        meta_feats[model] = np.array([item for lst in predsTR[model] for item in lst])\n",
    "    X = pd.concat([X, meta_feats], axis=1)\n",
    "\n",
    "    # combine testset predictions in dataframe, join with testset\n",
    "    meta_feats = pd.DataFrame(columns = [col for col in predsTE.keys()])\n",
    "    for model in predsTE.keys():\n",
    "        meta_feats[model] = np.array(predsTE[model])\n",
    "    Xtest = pd.concat([Xtest, meta_feats], axis=1)\n",
    "\n",
    "    # return trainset and testset with metafeatures\n",
    "    return X, Xtest"
   ]
  },
  {
   "cell_type": "code",
   "execution_count": null,
   "metadata": {
    "collapsed": false,
    "deletable": true,
    "editable": true
   },
   "outputs": [],
   "source": [
    "models = [model1, model2]\n",
    "X_train_stack, X_test_stack = stackEnsemble(models, Xtr, y, Xte, 4, True)"
   ]
  },
  {
   "cell_type": "code",
   "execution_count": null,
   "metadata": {
    "collapsed": true,
    "deletable": true,
    "editable": true
   },
   "outputs": [],
   "source": []
  }
 ],
 "metadata": {
  "kernelspec": {
   "display_name": "Python 3",
   "language": "python",
   "name": "python3"
  },
  "language_info": {
   "codemirror_mode": {
    "name": "ipython",
    "version": 3
   },
   "file_extension": ".py",
   "mimetype": "text/x-python",
   "name": "python",
   "nbconvert_exporter": "python",
   "pygments_lexer": "ipython3",
   "version": "3.5.2"
  }
 },
 "nbformat": 4,
 "nbformat_minor": 2
}
